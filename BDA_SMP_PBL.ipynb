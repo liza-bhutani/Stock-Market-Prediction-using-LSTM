{
  "nbformat": 4,
  "nbformat_minor": 0,
  "metadata": {
    "colab": {
      "provenance": [],
      "authorship_tag": "ABX9TyOSnh00lQf4yVe0YL8n+Xyq",
      "include_colab_link": true
    },
    "kernelspec": {
      "name": "python3",
      "display_name": "Python 3"
    },
    "language_info": {
      "name": "python"
    }
  },
  "cells": [
    {
      "cell_type": "markdown",
      "metadata": {
        "id": "view-in-github",
        "colab_type": "text"
      },
      "source": [
        "<a href=\"https://colab.research.google.com/github/liza-bhutani/Stock-Market-Prediction-using-LSTM/blob/main/BDA_SMP_PBL.ipynb\" target=\"_parent\"><img src=\"https://colab.research.google.com/assets/colab-badge.svg\" alt=\"Open In Colab\"/></a>"
      ]
    },
    {
      "cell_type": "code",
      "execution_count": null,
      "metadata": {
        "id": "sWuHjAumfNmq"
      },
      "outputs": [],
      "source": []
    },
    {
      "cell_type": "code",
      "source": [
        "!pip install yfinance pandas numpy matplotlib scikit-learn tensorflow gradio"
      ],
      "metadata": {
        "colab": {
          "base_uri": "https://localhost:8080/"
        },
        "collapsed": true,
        "id": "eK1WMutXsWzG",
        "outputId": "11fec4bd-791c-4b20-d159-d8ca5d8beb31"
      },
      "execution_count": null,
      "outputs": [
        {
          "output_type": "stream",
          "name": "stdout",
          "text": [
            "Requirement already satisfied: yfinance in /usr/local/lib/python3.11/dist-packages (0.2.55)\n",
            "Requirement already satisfied: pandas in /usr/local/lib/python3.11/dist-packages (2.2.2)\n",
            "Requirement already satisfied: numpy in /usr/local/lib/python3.11/dist-packages (2.0.2)\n",
            "Requirement already satisfied: matplotlib in /usr/local/lib/python3.11/dist-packages (3.10.0)\n",
            "Requirement already satisfied: scikit-learn in /usr/local/lib/python3.11/dist-packages (1.6.1)\n",
            "Requirement already satisfied: tensorflow in /usr/local/lib/python3.11/dist-packages (2.18.0)\n",
            "Collecting gradio\n",
            "  Downloading gradio-5.25.2-py3-none-any.whl.metadata (16 kB)\n",
            "Requirement already satisfied: requests>=2.31 in /usr/local/lib/python3.11/dist-packages (from yfinance) (2.32.3)\n",
            "Requirement already satisfied: multitasking>=0.0.7 in /usr/local/lib/python3.11/dist-packages (from yfinance) (0.0.11)\n",
            "Requirement already satisfied: platformdirs>=2.0.0 in /usr/local/lib/python3.11/dist-packages (from yfinance) (4.3.7)\n",
            "Requirement already satisfied: pytz>=2022.5 in /usr/local/lib/python3.11/dist-packages (from yfinance) (2025.2)\n",
            "Requirement already satisfied: frozendict>=2.3.4 in /usr/local/lib/python3.11/dist-packages (from yfinance) (2.4.6)\n",
            "Requirement already satisfied: peewee>=3.16.2 in /usr/local/lib/python3.11/dist-packages (from yfinance) (3.17.9)\n",
            "Requirement already satisfied: beautifulsoup4>=4.11.1 in /usr/local/lib/python3.11/dist-packages (from yfinance) (4.13.4)\n",
            "Requirement already satisfied: python-dateutil>=2.8.2 in /usr/local/lib/python3.11/dist-packages (from pandas) (2.8.2)\n",
            "Requirement already satisfied: tzdata>=2022.7 in /usr/local/lib/python3.11/dist-packages (from pandas) (2025.2)\n",
            "Requirement already satisfied: contourpy>=1.0.1 in /usr/local/lib/python3.11/dist-packages (from matplotlib) (1.3.2)\n",
            "Requirement already satisfied: cycler>=0.10 in /usr/local/lib/python3.11/dist-packages (from matplotlib) (0.12.1)\n",
            "Requirement already satisfied: fonttools>=4.22.0 in /usr/local/lib/python3.11/dist-packages (from matplotlib) (4.57.0)\n",
            "Requirement already satisfied: kiwisolver>=1.3.1 in /usr/local/lib/python3.11/dist-packages (from matplotlib) (1.4.8)\n",
            "Requirement already satisfied: packaging>=20.0 in /usr/local/lib/python3.11/dist-packages (from matplotlib) (24.2)\n",
            "Requirement already satisfied: pillow>=8 in /usr/local/lib/python3.11/dist-packages (from matplotlib) (11.1.0)\n",
            "Requirement already satisfied: pyparsing>=2.3.1 in /usr/local/lib/python3.11/dist-packages (from matplotlib) (3.2.3)\n",
            "Requirement already satisfied: scipy>=1.6.0 in /usr/local/lib/python3.11/dist-packages (from scikit-learn) (1.14.1)\n",
            "Requirement already satisfied: joblib>=1.2.0 in /usr/local/lib/python3.11/dist-packages (from scikit-learn) (1.4.2)\n",
            "Requirement already satisfied: threadpoolctl>=3.1.0 in /usr/local/lib/python3.11/dist-packages (from scikit-learn) (3.6.0)\n",
            "Requirement already satisfied: absl-py>=1.0.0 in /usr/local/lib/python3.11/dist-packages (from tensorflow) (1.4.0)\n",
            "Requirement already satisfied: astunparse>=1.6.0 in /usr/local/lib/python3.11/dist-packages (from tensorflow) (1.6.3)\n",
            "Requirement already satisfied: flatbuffers>=24.3.25 in /usr/local/lib/python3.11/dist-packages (from tensorflow) (25.2.10)\n",
            "Requirement already satisfied: gast!=0.5.0,!=0.5.1,!=0.5.2,>=0.2.1 in /usr/local/lib/python3.11/dist-packages (from tensorflow) (0.6.0)\n",
            "Requirement already satisfied: google-pasta>=0.1.1 in /usr/local/lib/python3.11/dist-packages (from tensorflow) (0.2.0)\n",
            "Requirement already satisfied: libclang>=13.0.0 in /usr/local/lib/python3.11/dist-packages (from tensorflow) (18.1.1)\n",
            "Requirement already satisfied: opt-einsum>=2.3.2 in /usr/local/lib/python3.11/dist-packages (from tensorflow) (3.4.0)\n",
            "Requirement already satisfied: protobuf!=4.21.0,!=4.21.1,!=4.21.2,!=4.21.3,!=4.21.4,!=4.21.5,<6.0.0dev,>=3.20.3 in /usr/local/lib/python3.11/dist-packages (from tensorflow) (5.29.4)\n",
            "Requirement already satisfied: setuptools in /usr/local/lib/python3.11/dist-packages (from tensorflow) (75.2.0)\n",
            "Requirement already satisfied: six>=1.12.0 in /usr/local/lib/python3.11/dist-packages (from tensorflow) (1.17.0)\n",
            "Requirement already satisfied: termcolor>=1.1.0 in /usr/local/lib/python3.11/dist-packages (from tensorflow) (3.0.1)\n",
            "Requirement already satisfied: typing-extensions>=3.6.6 in /usr/local/lib/python3.11/dist-packages (from tensorflow) (4.13.2)\n",
            "Requirement already satisfied: wrapt>=1.11.0 in /usr/local/lib/python3.11/dist-packages (from tensorflow) (1.17.2)\n",
            "Requirement already satisfied: grpcio<2.0,>=1.24.3 in /usr/local/lib/python3.11/dist-packages (from tensorflow) (1.71.0)\n",
            "Requirement already satisfied: tensorboard<2.19,>=2.18 in /usr/local/lib/python3.11/dist-packages (from tensorflow) (2.18.0)\n",
            "Requirement already satisfied: keras>=3.5.0 in /usr/local/lib/python3.11/dist-packages (from tensorflow) (3.8.0)\n",
            "Requirement already satisfied: h5py>=3.11.0 in /usr/local/lib/python3.11/dist-packages (from tensorflow) (3.13.0)\n",
            "Requirement already satisfied: ml-dtypes<0.5.0,>=0.4.0 in /usr/local/lib/python3.11/dist-packages (from tensorflow) (0.4.1)\n",
            "Requirement already satisfied: tensorflow-io-gcs-filesystem>=0.23.1 in /usr/local/lib/python3.11/dist-packages (from tensorflow) (0.37.1)\n",
            "Collecting aiofiles<25.0,>=22.0 (from gradio)\n",
            "  Downloading aiofiles-24.1.0-py3-none-any.whl.metadata (10 kB)\n",
            "Requirement already satisfied: anyio<5.0,>=3.0 in /usr/local/lib/python3.11/dist-packages (from gradio) (4.9.0)\n",
            "Collecting fastapi<1.0,>=0.115.2 (from gradio)\n",
            "  Downloading fastapi-0.115.12-py3-none-any.whl.metadata (27 kB)\n",
            "Collecting ffmpy (from gradio)\n",
            "  Downloading ffmpy-0.5.0-py3-none-any.whl.metadata (3.0 kB)\n",
            "Collecting gradio-client==1.8.0 (from gradio)\n",
            "  Downloading gradio_client-1.8.0-py3-none-any.whl.metadata (7.1 kB)\n",
            "Collecting groovy~=0.1 (from gradio)\n",
            "  Downloading groovy-0.1.2-py3-none-any.whl.metadata (6.1 kB)\n",
            "Requirement already satisfied: httpx>=0.24.1 in /usr/local/lib/python3.11/dist-packages (from gradio) (0.28.1)\n",
            "Requirement already satisfied: huggingface-hub>=0.28.1 in /usr/local/lib/python3.11/dist-packages (from gradio) (0.30.2)\n",
            "Requirement already satisfied: jinja2<4.0 in /usr/local/lib/python3.11/dist-packages (from gradio) (3.1.6)\n",
            "Requirement already satisfied: markupsafe<4.0,>=2.0 in /usr/local/lib/python3.11/dist-packages (from gradio) (3.0.2)\n",
            "Requirement already satisfied: orjson~=3.0 in /usr/local/lib/python3.11/dist-packages (from gradio) (3.10.16)\n",
            "Requirement already satisfied: pydantic<2.12,>=2.0 in /usr/local/lib/python3.11/dist-packages (from gradio) (2.11.3)\n",
            "Collecting pydub (from gradio)\n",
            "  Downloading pydub-0.25.1-py2.py3-none-any.whl.metadata (1.4 kB)\n",
            "Collecting python-multipart>=0.0.18 (from gradio)\n",
            "  Downloading python_multipart-0.0.20-py3-none-any.whl.metadata (1.8 kB)\n",
            "Requirement already satisfied: pyyaml<7.0,>=5.0 in /usr/local/lib/python3.11/dist-packages (from gradio) (6.0.2)\n",
            "Collecting ruff>=0.9.3 (from gradio)\n",
            "  Downloading ruff-0.11.6-py3-none-manylinux_2_17_x86_64.manylinux2014_x86_64.whl.metadata (25 kB)\n",
            "Collecting safehttpx<0.2.0,>=0.1.6 (from gradio)\n",
            "  Downloading safehttpx-0.1.6-py3-none-any.whl.metadata (4.2 kB)\n",
            "Collecting semantic-version~=2.0 (from gradio)\n",
            "  Downloading semantic_version-2.10.0-py2.py3-none-any.whl.metadata (9.7 kB)\n",
            "Collecting starlette<1.0,>=0.40.0 (from gradio)\n",
            "  Downloading starlette-0.46.2-py3-none-any.whl.metadata (6.2 kB)\n",
            "Collecting tomlkit<0.14.0,>=0.12.0 (from gradio)\n",
            "  Downloading tomlkit-0.13.2-py3-none-any.whl.metadata (2.7 kB)\n",
            "Requirement already satisfied: typer<1.0,>=0.12 in /usr/local/lib/python3.11/dist-packages (from gradio) (0.15.2)\n",
            "Collecting uvicorn>=0.14.0 (from gradio)\n",
            "  Downloading uvicorn-0.34.1-py3-none-any.whl.metadata (6.5 kB)\n",
            "Requirement already satisfied: fsspec in /usr/local/lib/python3.11/dist-packages (from gradio-client==1.8.0->gradio) (2025.3.2)\n",
            "Requirement already satisfied: websockets<16.0,>=10.0 in /usr/local/lib/python3.11/dist-packages (from gradio-client==1.8.0->gradio) (15.0.1)\n",
            "Requirement already satisfied: idna>=2.8 in /usr/local/lib/python3.11/dist-packages (from anyio<5.0,>=3.0->gradio) (3.10)\n",
            "Requirement already satisfied: sniffio>=1.1 in /usr/local/lib/python3.11/dist-packages (from anyio<5.0,>=3.0->gradio) (1.3.1)\n",
            "Requirement already satisfied: wheel<1.0,>=0.23.0 in /usr/local/lib/python3.11/dist-packages (from astunparse>=1.6.0->tensorflow) (0.45.1)\n",
            "Requirement already satisfied: soupsieve>1.2 in /usr/local/lib/python3.11/dist-packages (from beautifulsoup4>=4.11.1->yfinance) (2.6)\n",
            "Requirement already satisfied: certifi in /usr/local/lib/python3.11/dist-packages (from httpx>=0.24.1->gradio) (2025.1.31)\n",
            "Requirement already satisfied: httpcore==1.* in /usr/local/lib/python3.11/dist-packages (from httpx>=0.24.1->gradio) (1.0.8)\n",
            "Requirement already satisfied: h11<0.15,>=0.13 in /usr/local/lib/python3.11/dist-packages (from httpcore==1.*->httpx>=0.24.1->gradio) (0.14.0)\n",
            "Requirement already satisfied: filelock in /usr/local/lib/python3.11/dist-packages (from huggingface-hub>=0.28.1->gradio) (3.18.0)\n",
            "Requirement already satisfied: tqdm>=4.42.1 in /usr/local/lib/python3.11/dist-packages (from huggingface-hub>=0.28.1->gradio) (4.67.1)\n",
            "Requirement already satisfied: rich in /usr/local/lib/python3.11/dist-packages (from keras>=3.5.0->tensorflow) (13.9.4)\n",
            "Requirement already satisfied: namex in /usr/local/lib/python3.11/dist-packages (from keras>=3.5.0->tensorflow) (0.0.8)\n",
            "Requirement already satisfied: optree in /usr/local/lib/python3.11/dist-packages (from keras>=3.5.0->tensorflow) (0.15.0)\n",
            "Requirement already satisfied: annotated-types>=0.6.0 in /usr/local/lib/python3.11/dist-packages (from pydantic<2.12,>=2.0->gradio) (0.7.0)\n",
            "Requirement already satisfied: pydantic-core==2.33.1 in /usr/local/lib/python3.11/dist-packages (from pydantic<2.12,>=2.0->gradio) (2.33.1)\n",
            "Requirement already satisfied: typing-inspection>=0.4.0 in /usr/local/lib/python3.11/dist-packages (from pydantic<2.12,>=2.0->gradio) (0.4.0)\n",
            "Requirement already satisfied: charset-normalizer<4,>=2 in /usr/local/lib/python3.11/dist-packages (from requests>=2.31->yfinance) (3.4.1)\n",
            "Requirement already satisfied: urllib3<3,>=1.21.1 in /usr/local/lib/python3.11/dist-packages (from requests>=2.31->yfinance) (2.3.0)\n",
            "Requirement already satisfied: markdown>=2.6.8 in /usr/local/lib/python3.11/dist-packages (from tensorboard<2.19,>=2.18->tensorflow) (3.8)\n",
            "Requirement already satisfied: tensorboard-data-server<0.8.0,>=0.7.0 in /usr/local/lib/python3.11/dist-packages (from tensorboard<2.19,>=2.18->tensorflow) (0.7.2)\n",
            "Requirement already satisfied: werkzeug>=1.0.1 in /usr/local/lib/python3.11/dist-packages (from tensorboard<2.19,>=2.18->tensorflow) (3.1.3)\n",
            "Requirement already satisfied: click>=8.0.0 in /usr/local/lib/python3.11/dist-packages (from typer<1.0,>=0.12->gradio) (8.1.8)\n",
            "Requirement already satisfied: shellingham>=1.3.0 in /usr/local/lib/python3.11/dist-packages (from typer<1.0,>=0.12->gradio) (1.5.4)\n",
            "Requirement already satisfied: markdown-it-py>=2.2.0 in /usr/local/lib/python3.11/dist-packages (from rich->keras>=3.5.0->tensorflow) (3.0.0)\n",
            "Requirement already satisfied: pygments<3.0.0,>=2.13.0 in /usr/local/lib/python3.11/dist-packages (from rich->keras>=3.5.0->tensorflow) (2.18.0)\n",
            "Requirement already satisfied: mdurl~=0.1 in /usr/local/lib/python3.11/dist-packages (from markdown-it-py>=2.2.0->rich->keras>=3.5.0->tensorflow) (0.1.2)\n",
            "Downloading gradio-5.25.2-py3-none-any.whl (46.9 MB)\n",
            "\u001b[2K   \u001b[90m━━━━━━━━━━━━━━━━━━━━━━━━━━━━━━━━━━━━━━━━\u001b[0m \u001b[32m46.9/46.9 MB\u001b[0m \u001b[31m20.5 MB/s\u001b[0m eta \u001b[36m0:00:00\u001b[0m\n",
            "\u001b[?25hDownloading gradio_client-1.8.0-py3-none-any.whl (322 kB)\n",
            "\u001b[2K   \u001b[90m━━━━━━━━━━━━━━━━━━━━━━━━━━━━━━━━━━━━━━━━\u001b[0m \u001b[32m322.2/322.2 kB\u001b[0m \u001b[31m17.9 MB/s\u001b[0m eta \u001b[36m0:00:00\u001b[0m\n",
            "\u001b[?25hDownloading aiofiles-24.1.0-py3-none-any.whl (15 kB)\n",
            "Downloading fastapi-0.115.12-py3-none-any.whl (95 kB)\n",
            "\u001b[2K   \u001b[90m━━━━━━━━━━━━━━━━━━━━━━━━━━━━━━━━━━━━━━━━\u001b[0m \u001b[32m95.2/95.2 kB\u001b[0m \u001b[31m7.4 MB/s\u001b[0m eta \u001b[36m0:00:00\u001b[0m\n",
            "\u001b[?25hDownloading groovy-0.1.2-py3-none-any.whl (14 kB)\n",
            "Downloading python_multipart-0.0.20-py3-none-any.whl (24 kB)\n",
            "Downloading ruff-0.11.6-py3-none-manylinux_2_17_x86_64.manylinux2014_x86_64.whl (11.5 MB)\n",
            "\u001b[2K   \u001b[90m━━━━━━━━━━━━━━━━━━━━━━━━━━━━━━━━━━━━━━━━\u001b[0m \u001b[32m11.5/11.5 MB\u001b[0m \u001b[31m114.8 MB/s\u001b[0m eta \u001b[36m0:00:00\u001b[0m\n",
            "\u001b[?25hDownloading safehttpx-0.1.6-py3-none-any.whl (8.7 kB)\n",
            "Downloading semantic_version-2.10.0-py2.py3-none-any.whl (15 kB)\n",
            "Downloading starlette-0.46.2-py3-none-any.whl (72 kB)\n",
            "\u001b[2K   \u001b[90m━━━━━━━━━━━━━━━━━━━━━━━━━━━━━━━━━━━━━━━━\u001b[0m \u001b[32m72.0/72.0 kB\u001b[0m \u001b[31m5.9 MB/s\u001b[0m eta \u001b[36m0:00:00\u001b[0m\n",
            "\u001b[?25hDownloading tomlkit-0.13.2-py3-none-any.whl (37 kB)\n",
            "Downloading uvicorn-0.34.1-py3-none-any.whl (62 kB)\n",
            "\u001b[2K   \u001b[90m━━━━━━━━━━━━━━━━━━━━━━━━━━━━━━━━━━━━━━━━\u001b[0m \u001b[32m62.4/62.4 kB\u001b[0m \u001b[31m4.6 MB/s\u001b[0m eta \u001b[36m0:00:00\u001b[0m\n",
            "\u001b[?25hDownloading ffmpy-0.5.0-py3-none-any.whl (6.0 kB)\n",
            "Downloading pydub-0.25.1-py2.py3-none-any.whl (32 kB)\n",
            "Installing collected packages: pydub, uvicorn, tomlkit, semantic-version, ruff, python-multipart, groovy, ffmpy, aiofiles, starlette, safehttpx, gradio-client, fastapi, gradio\n",
            "Successfully installed aiofiles-24.1.0 fastapi-0.115.12 ffmpy-0.5.0 gradio-5.25.2 gradio-client-1.8.0 groovy-0.1.2 pydub-0.25.1 python-multipart-0.0.20 ruff-0.11.6 safehttpx-0.1.6 semantic-version-2.10.0 starlette-0.46.2 tomlkit-0.13.2 uvicorn-0.34.1\n"
          ]
        }
      ]
    },
    {
      "cell_type": "code",
      "execution_count": null,
      "metadata": {
        "id": "oDxgyvLNsTC5"
      },
      "outputs": [],
      "source": [
        "import yfinance as yf\n",
        "import pandas as pd\n",
        "import numpy as np\n",
        "import matplotlib.pyplot as plt\n",
        "from sklearn.preprocessing import MinMaxScaler\n",
        "from tensorflow.keras.models import Sequential\n",
        "from tensorflow.keras.layers import LSTM, Dense, Dropout\n",
        "import datetime\n",
        "import gradio as gr\n",
        "import os\n",
        "import pickle"
      ]
    },
    {
      "cell_type": "code",
      "source": [
        "import tensorflow as tf\n",
        "print(\"GPU Available: \", tf.config.list_physical_devices('GPU'))"
      ],
      "metadata": {
        "colab": {
          "base_uri": "https://localhost:8080/"
        },
        "id": "1m3TVjTZsa9e",
        "outputId": "9eac2933-dbbe-4a5f-a160-bde4ecae5d51"
      },
      "execution_count": null,
      "outputs": [
        {
          "output_type": "stream",
          "name": "stdout",
          "text": [
            "GPU Available:  []\n"
          ]
        }
      ]
    },
    {
      "cell_type": "code",
      "source": [
        "companies = ['AAPL', 'GOOG', 'MSFT', 'AMZN']\n",
        "end_date = datetime.datetime.now().strftime('%Y-%m-%d')\n",
        "start_date = '2015-01-01'  # Starting from 2015 to have enough training data\n",
        "\n",
        "# Function to download stock data\n",
        "def download_stock_data(ticker, start_date, end_date):\n",
        "    data = yf.download(ticker, start=start_date, end=end_date)\n",
        "    return data\n",
        "\n",
        "# Download data for each company\n",
        "stock_data = {}\n",
        "for company in companies:\n",
        "    stock_data[company] = download_stock_data(company, start_date, end_date)\n",
        "    print(f\"Downloaded {company} data shape: {stock_data[company].shape}\")\n",
        "\n",
        "# Show the first few rows of Apple's data as an example\n",
        "print(\"\\nSample data for AAPL:\")\n",
        "print(stock_data['AAPL'].head())"
      ],
      "metadata": {
        "colab": {
          "base_uri": "https://localhost:8080/"
        },
        "id": "6kKFEVTBse28",
        "outputId": "78ad0b66-dae7-4b24-8300-4207f3d2c385"
      },
      "execution_count": null,
      "outputs": [
        {
          "output_type": "stream",
          "name": "stdout",
          "text": [
            "YF.download() has changed argument auto_adjust default to True\n"
          ]
        },
        {
          "output_type": "stream",
          "name": "stderr",
          "text": [
            "\r[*********************100%***********************]  1 of 1 completed\n"
          ]
        },
        {
          "output_type": "stream",
          "name": "stdout",
          "text": [
            "Downloaded AAPL data shape: (2589, 5)\n"
          ]
        },
        {
          "output_type": "stream",
          "name": "stderr",
          "text": [
            "\r[*********************100%***********************]  1 of 1 completed\n"
          ]
        },
        {
          "output_type": "stream",
          "name": "stdout",
          "text": [
            "Downloaded GOOG data shape: (2589, 5)\n"
          ]
        },
        {
          "output_type": "stream",
          "name": "stderr",
          "text": [
            "[*********************100%***********************]  1 of 1 completed\n",
            "[*********************100%***********************]  1 of 1 completed\n"
          ]
        },
        {
          "output_type": "stream",
          "name": "stdout",
          "text": [
            "Downloaded MSFT data shape: (2589, 5)\n",
            "Downloaded AMZN data shape: (2589, 5)\n",
            "\n",
            "Sample data for AAPL:\n",
            "Price           Close       High        Low       Open     Volume\n",
            "Ticker           AAPL       AAPL       AAPL       AAPL       AAPL\n",
            "Date                                                             \n",
            "2015-01-02  24.320433  24.789802  23.879981  24.778679  212818400\n",
            "2015-01-05  23.635290  24.169170  23.448433  24.089088  257142000\n",
            "2015-01-06  23.637514  23.897780  23.274920  23.699800  263188400\n",
            "2015-01-07  23.968956  24.069058  23.735383  23.846608  160423600\n",
            "2015-01-08  24.889906  24.947743  24.180291  24.298190  237458000\n"
          ]
        }
      ]
    },
    {
      "cell_type": "code",
      "source": [
        "# Step 3: Preprocess data and split into training and testing sets\n",
        "\n",
        "# Function to prepare data for LSTM\n",
        "def prepare_lstm_data(data, feature='Close', sequence_length=60):\n",
        "    # Extract the 'Close' price column\n",
        "    df = data[feature].values.reshape(-1, 1)\n",
        "\n",
        "    # Scale the data\n",
        "    scaler = MinMaxScaler(feature_range=(0, 1))\n",
        "    scaled_data = scaler.fit_transform(df)\n",
        "\n",
        "    # Split into training and testing sets\n",
        "    # Use all data except the last month for training\n",
        "    # Last month (approximately 21 trading days) for testing\n",
        "    train_data = scaled_data[:-21]\n",
        "    test_data = scaled_data[-21-sequence_length:]  # Include some prior data for sequence\n",
        "\n",
        "    # Create sequences for LSTM\n",
        "    X_train, y_train = [], []\n",
        "    for i in range(sequence_length, len(train_data)):\n",
        "        X_train.append(train_data[i-sequence_length:i, 0])\n",
        "        y_train.append(train_data[i, 0])\n",
        "    X_train, y_train = np.array(X_train), np.array(y_train)\n",
        "    X_train = np.reshape(X_train, (X_train.shape[0], X_train.shape[1], 1))\n",
        "\n",
        "    X_test, y_test = [], []\n",
        "    for i in range(sequence_length, len(test_data)):\n",
        "        X_test.append(test_data[i-sequence_length:i, 0])\n",
        "        y_test.append(test_data[i, 0])\n",
        "    X_test, y_test = np.array(X_test), np.array(y_test)\n",
        "    X_test = np.reshape(X_test, (X_test.shape[0], X_test.shape[1], 1))\n",
        "\n",
        "    return X_train, y_train, X_test, y_test, scaler\n",
        "\n",
        "# Process data for each company\n",
        "processed_data = {}\n",
        "for company in companies:\n",
        "    X_train, y_train, X_test, y_test, scaler = prepare_lstm_data(stock_data[company])\n",
        "    processed_data[company] = {\n",
        "        'X_train': X_train,\n",
        "        'y_train': y_train,\n",
        "        'X_test': X_test,\n",
        "        'y_test': y_test,\n",
        "        'scaler': scaler\n",
        "    }\n",
        "    print(f\"{company} data processed: Train shape={X_train.shape}, Test shape={X_test.shape}\")\n",
        "\n",
        "# Save the processed data shapes to verify\n",
        "for company in companies:\n",
        "    print(f\"\\n{company} details:\")\n",
        "    print(f\"Training data shape (X): {processed_data[company]['X_train'].shape}\")\n",
        "    print(f\"Training labels shape (y): {processed_data[company]['y_train'].shape}\")\n",
        "    print(f\"Testing data shape (X): {processed_data[company]['X_test'].shape}\")\n",
        "    print(f\"Testing labels shape (y): {processed_data[company]['y_test'].shape}\")"
      ],
      "metadata": {
        "colab": {
          "base_uri": "https://localhost:8080/"
        },
        "id": "KD-V_Rr-suiY",
        "outputId": "92b4c2ad-e0ca-4025-8657-0750c32f822a"
      },
      "execution_count": null,
      "outputs": [
        {
          "output_type": "stream",
          "name": "stdout",
          "text": [
            "AAPL data processed: Train shape=(2508, 60, 1), Test shape=(21, 60, 1)\n",
            "GOOG data processed: Train shape=(2508, 60, 1), Test shape=(21, 60, 1)\n",
            "MSFT data processed: Train shape=(2508, 60, 1), Test shape=(21, 60, 1)\n",
            "AMZN data processed: Train shape=(2508, 60, 1), Test shape=(21, 60, 1)\n",
            "\n",
            "AAPL details:\n",
            "Training data shape (X): (2508, 60, 1)\n",
            "Training labels shape (y): (2508,)\n",
            "Testing data shape (X): (21, 60, 1)\n",
            "Testing labels shape (y): (21,)\n",
            "\n",
            "GOOG details:\n",
            "Training data shape (X): (2508, 60, 1)\n",
            "Training labels shape (y): (2508,)\n",
            "Testing data shape (X): (21, 60, 1)\n",
            "Testing labels shape (y): (21,)\n",
            "\n",
            "MSFT details:\n",
            "Training data shape (X): (2508, 60, 1)\n",
            "Training labels shape (y): (2508,)\n",
            "Testing data shape (X): (21, 60, 1)\n",
            "Testing labels shape (y): (21,)\n",
            "\n",
            "AMZN details:\n",
            "Training data shape (X): (2508, 60, 1)\n",
            "Training labels shape (y): (2508,)\n",
            "Testing data shape (X): (21, 60, 1)\n",
            "Testing labels shape (y): (21,)\n"
          ]
        }
      ]
    },
    {
      "cell_type": "code",
      "source": [
        "# Build and train LSTM models for each company\n",
        "\n",
        "# Function to create LSTM model\n",
        "def create_lstm_model(input_shape):\n",
        "    model = Sequential()\n",
        "    model.add(LSTM(units=50, return_sequences=True, input_shape=input_shape))\n",
        "    model.add(Dropout(0.2))\n",
        "    model.add(LSTM(units=50, return_sequences=False))\n",
        "    model.add(Dropout(0.2))\n",
        "    model.add(Dense(units=25))\n",
        "    model.add(Dense(units=1))\n",
        "    model.compile(optimizer='adam', loss='mean_squared_error')\n",
        "    return model\n",
        "\n",
        "# Create and train models for each company\n",
        "trained_models = {}\n",
        "history_dict = {}\n",
        "\n",
        "# Create models directory if it doesn't exist\n",
        "if not os.path.exists('models'):\n",
        "    os.makedirs('models')\n",
        "\n",
        "for company in companies:\n",
        "    print(f\"\\nTraining model for {company}...\")\n",
        "    X_train = processed_data[company]['X_train']\n",
        "    y_train = processed_data[company]['y_train']\n",
        "\n",
        "    input_shape = (X_train.shape[1], 1)\n",
        "    model = create_lstm_model(input_shape)\n",
        "\n",
        "    # Train the model\n",
        "    history = model.fit(\n",
        "        X_train, y_train,\n",
        "        epochs=10,  # Reduced for demonstration, increase for better results\n",
        "        batch_size=32,\n",
        "        validation_split=0.1,\n",
        "        verbose=1\n",
        "    )\n",
        "\n",
        "    trained_models[company] = model\n",
        "    history_dict[company] = history.history\n",
        "\n",
        "    # Save the model\n",
        "    model.save(f'models/{company}_model.h5')\n",
        "\n",
        "    # Save the scaler\n",
        "    with open(f'models/{company}_scaler.pkl', 'wb') as f:\n",
        "        pickle.dump(processed_data[company]['scaler'], f)\n",
        "\n",
        "# Plot training history for the first company (Apple) as an example\n",
        "plt.figure(figsize=(12, 6))\n",
        "plt.plot(history_dict['AAPL']['loss'], label='Train Loss')\n",
        "plt.plot(history_dict['AAPL']['val_loss'], label='Validation Loss')\n",
        "plt.title('LSTM Training and Validation Loss for AAPL')\n",
        "plt.xlabel('Epochs')\n",
        "plt.ylabel('Loss')\n",
        "plt.legend()\n",
        "plt.grid(True)\n",
        "plt.show()"
      ],
      "metadata": {
        "colab": {
          "base_uri": "https://localhost:8080/",
          "height": 1000
        },
        "id": "csH6Fxgps6bi",
        "outputId": "ac6041fa-e80f-475c-fcfc-7cb93eef63ec",
        "collapsed": true
      },
      "execution_count": null,
      "outputs": [
        {
          "output_type": "stream",
          "name": "stderr",
          "text": [
            "/usr/local/lib/python3.11/dist-packages/keras/src/layers/rnn/rnn.py:200: UserWarning: Do not pass an `input_shape`/`input_dim` argument to a layer. When using Sequential models, prefer using an `Input(shape)` object as the first layer in the model instead.\n",
            "  super().__init__(**kwargs)\n"
          ]
        },
        {
          "output_type": "stream",
          "name": "stdout",
          "text": [
            "\n",
            "Training model for AAPL...\n",
            "Epoch 1/10\n",
            "\u001b[1m71/71\u001b[0m \u001b[32m━━━━━━━━━━━━━━━━━━━━\u001b[0m\u001b[37m\u001b[0m \u001b[1m9s\u001b[0m 63ms/step - loss: 0.0203 - val_loss: 0.0015\n",
            "Epoch 2/10\n",
            "\u001b[1m71/71\u001b[0m \u001b[32m━━━━━━━━━━━━━━━━━━━━\u001b[0m\u001b[37m\u001b[0m \u001b[1m6s\u001b[0m 78ms/step - loss: 0.0015 - val_loss: 0.0011\n",
            "Epoch 3/10\n",
            "\u001b[1m71/71\u001b[0m \u001b[32m━━━━━━━━━━━━━━━━━━━━\u001b[0m\u001b[37m\u001b[0m \u001b[1m10s\u001b[0m 136ms/step - loss: 0.0013 - val_loss: 0.0028\n",
            "Epoch 4/10\n",
            "\u001b[1m71/71\u001b[0m \u001b[32m━━━━━━━━━━━━━━━━━━━━\u001b[0m\u001b[37m\u001b[0m \u001b[1m8s\u001b[0m 107ms/step - loss: 0.0012 - val_loss: 0.0014\n",
            "Epoch 5/10\n",
            "\u001b[1m71/71\u001b[0m \u001b[32m━━━━━━━━━━━━━━━━━━━━\u001b[0m\u001b[37m\u001b[0m \u001b[1m6s\u001b[0m 51ms/step - loss: 8.9573e-04 - val_loss: 0.0010\n",
            "Epoch 6/10\n",
            "\u001b[1m71/71\u001b[0m \u001b[32m━━━━━━━━━━━━━━━━━━━━\u001b[0m\u001b[37m\u001b[0m \u001b[1m5s\u001b[0m 53ms/step - loss: 9.3133e-04 - val_loss: 9.7837e-04\n",
            "Epoch 7/10\n",
            "\u001b[1m71/71\u001b[0m \u001b[32m━━━━━━━━━━━━━━━━━━━━\u001b[0m\u001b[37m\u001b[0m \u001b[1m5s\u001b[0m 54ms/step - loss: 9.4866e-04 - val_loss: 0.0021\n",
            "Epoch 8/10\n",
            "\u001b[1m71/71\u001b[0m \u001b[32m━━━━━━━━━━━━━━━━━━━━\u001b[0m\u001b[37m\u001b[0m \u001b[1m5s\u001b[0m 52ms/step - loss: 8.4017e-04 - val_loss: 0.0038\n",
            "Epoch 9/10\n",
            "\u001b[1m71/71\u001b[0m \u001b[32m━━━━━━━━━━━━━━━━━━━━\u001b[0m\u001b[37m\u001b[0m \u001b[1m6s\u001b[0m 62ms/step - loss: 8.2606e-04 - val_loss: 8.8547e-04\n",
            "Epoch 10/10\n",
            "\u001b[1m71/71\u001b[0m \u001b[32m━━━━━━━━━━━━━━━━━━━━\u001b[0m\u001b[37m\u001b[0m \u001b[1m4s\u001b[0m 51ms/step - loss: 6.9843e-04 - val_loss: 0.0020\n"
          ]
        },
        {
          "output_type": "stream",
          "name": "stderr",
          "text": [
            "WARNING:absl:You are saving your model as an HDF5 file via `model.save()` or `keras.saving.save_model(model)`. This file format is considered legacy. We recommend using instead the native Keras format, e.g. `model.save('my_model.keras')` or `keras.saving.save_model(model, 'my_model.keras')`. \n"
          ]
        },
        {
          "output_type": "stream",
          "name": "stdout",
          "text": [
            "\n",
            "Training model for GOOG...\n",
            "Epoch 1/10\n",
            "\u001b[1m71/71\u001b[0m \u001b[32m━━━━━━━━━━━━━━━━━━━━\u001b[0m\u001b[37m\u001b[0m \u001b[1m9s\u001b[0m 64ms/step - loss: 0.0302 - val_loss: 0.0037\n",
            "Epoch 2/10\n",
            "\u001b[1m71/71\u001b[0m \u001b[32m━━━━━━━━━━━━━━━━━━━━\u001b[0m\u001b[37m\u001b[0m \u001b[1m4s\u001b[0m 51ms/step - loss: 0.0014 - val_loss: 0.0021\n",
            "Epoch 3/10\n",
            "\u001b[1m71/71\u001b[0m \u001b[32m━━━━━━━━━━━━━━━━━━━━\u001b[0m\u001b[37m\u001b[0m \u001b[1m8s\u001b[0m 97ms/step - loss: 0.0013 - val_loss: 0.0029\n",
            "Epoch 4/10\n",
            "\u001b[1m71/71\u001b[0m \u001b[32m━━━━━━━━━━━━━━━━━━━━\u001b[0m\u001b[37m\u001b[0m \u001b[1m4s\u001b[0m 52ms/step - loss: 9.5811e-04 - val_loss: 0.0014\n",
            "Epoch 5/10\n",
            "\u001b[1m71/71\u001b[0m \u001b[32m━━━━━━━━━━━━━━━━━━━━\u001b[0m\u001b[37m\u001b[0m \u001b[1m4s\u001b[0m 57ms/step - loss: 8.7137e-04 - val_loss: 0.0036\n",
            "Epoch 6/10\n",
            "\u001b[1m71/71\u001b[0m \u001b[32m━━━━━━━━━━━━━━━━━━━━\u001b[0m\u001b[37m\u001b[0m \u001b[1m4s\u001b[0m 59ms/step - loss: 7.5596e-04 - val_loss: 0.0020\n",
            "Epoch 7/10\n",
            "\u001b[1m71/71\u001b[0m \u001b[32m━━━━━━━━━━━━━━━━━━━━\u001b[0m\u001b[37m\u001b[0m \u001b[1m5s\u001b[0m 53ms/step - loss: 8.8795e-04 - val_loss: 0.0028\n",
            "Epoch 8/10\n",
            "\u001b[1m71/71\u001b[0m \u001b[32m━━━━━━━━━━━━━━━━━━━━\u001b[0m\u001b[37m\u001b[0m \u001b[1m4s\u001b[0m 58ms/step - loss: 8.0650e-04 - val_loss: 0.0020\n",
            "Epoch 9/10\n",
            "\u001b[1m71/71\u001b[0m \u001b[32m━━━━━━━━━━━━━━━━━━━━\u001b[0m\u001b[37m\u001b[0m \u001b[1m5s\u001b[0m 53ms/step - loss: 6.5402e-04 - val_loss: 0.0014\n",
            "Epoch 10/10\n",
            "\u001b[1m71/71\u001b[0m \u001b[32m━━━━━━━━━━━━━━━━━━━━\u001b[0m\u001b[37m\u001b[0m \u001b[1m6s\u001b[0m 65ms/step - loss: 6.5331e-04 - val_loss: 0.0016\n"
          ]
        },
        {
          "output_type": "stream",
          "name": "stderr",
          "text": [
            "WARNING:absl:You are saving your model as an HDF5 file via `model.save()` or `keras.saving.save_model(model)`. This file format is considered legacy. We recommend using instead the native Keras format, e.g. `model.save('my_model.keras')` or `keras.saving.save_model(model, 'my_model.keras')`. \n"
          ]
        },
        {
          "output_type": "stream",
          "name": "stdout",
          "text": [
            "\n",
            "Training model for MSFT...\n",
            "Epoch 1/10\n",
            "\u001b[1m71/71\u001b[0m \u001b[32m━━━━━━━━━━━━━━━━━━━━\u001b[0m\u001b[37m\u001b[0m \u001b[1m8s\u001b[0m 59ms/step - loss: 0.0227 - val_loss: 8.6861e-04\n",
            "Epoch 2/10\n",
            "\u001b[1m71/71\u001b[0m \u001b[32m━━━━━━━━━━━━━━━━━━━━\u001b[0m\u001b[37m\u001b[0m \u001b[1m6s\u001b[0m 66ms/step - loss: 0.0016 - val_loss: 0.0017\n",
            "Epoch 3/10\n",
            "\u001b[1m71/71\u001b[0m \u001b[32m━━━━━━━━━━━━━━━━━━━━\u001b[0m\u001b[37m\u001b[0m \u001b[1m4s\u001b[0m 54ms/step - loss: 0.0015 - val_loss: 0.0014\n",
            "Epoch 4/10\n",
            "\u001b[1m71/71\u001b[0m \u001b[32m━━━━━━━━━━━━━━━━━━━━\u001b[0m\u001b[37m\u001b[0m \u001b[1m4s\u001b[0m 53ms/step - loss: 0.0012 - val_loss: 9.2677e-04\n",
            "Epoch 5/10\n",
            "\u001b[1m71/71\u001b[0m \u001b[32m━━━━━━━━━━━━━━━━━━━━\u001b[0m\u001b[37m\u001b[0m \u001b[1m6s\u001b[0m 67ms/step - loss: 9.9998e-04 - val_loss: 0.0011\n",
            "Epoch 6/10\n",
            "\u001b[1m71/71\u001b[0m \u001b[32m━━━━━━━━━━━━━━━━━━━━\u001b[0m\u001b[37m\u001b[0m \u001b[1m4s\u001b[0m 54ms/step - loss: 0.0011 - val_loss: 0.0012\n",
            "Epoch 7/10\n",
            "\u001b[1m71/71\u001b[0m \u001b[32m━━━━━━━━━━━━━━━━━━━━\u001b[0m\u001b[37m\u001b[0m \u001b[1m4s\u001b[0m 53ms/step - loss: 7.5457e-04 - val_loss: 0.0014\n",
            "Epoch 8/10\n",
            "\u001b[1m71/71\u001b[0m \u001b[32m━━━━━━━━━━━━━━━━━━━━\u001b[0m\u001b[37m\u001b[0m \u001b[1m6s\u001b[0m 72ms/step - loss: 8.2696e-04 - val_loss: 7.9773e-04\n",
            "Epoch 9/10\n",
            "\u001b[1m71/71\u001b[0m \u001b[32m━━━━━━━━━━━━━━━━━━━━\u001b[0m\u001b[37m\u001b[0m \u001b[1m10s\u001b[0m 66ms/step - loss: 8.0488e-04 - val_loss: 7.4859e-04\n",
            "Epoch 10/10\n",
            "\u001b[1m71/71\u001b[0m \u001b[32m━━━━━━━━━━━━━━━━━━━━\u001b[0m\u001b[37m\u001b[0m \u001b[1m4s\u001b[0m 54ms/step - loss: 7.1278e-04 - val_loss: 7.3292e-04\n"
          ]
        },
        {
          "output_type": "stream",
          "name": "stderr",
          "text": [
            "WARNING:absl:You are saving your model as an HDF5 file via `model.save()` or `keras.saving.save_model(model)`. This file format is considered legacy. We recommend using instead the native Keras format, e.g. `model.save('my_model.keras')` or `keras.saving.save_model(model, 'my_model.keras')`. \n"
          ]
        },
        {
          "output_type": "stream",
          "name": "stdout",
          "text": [
            "\n",
            "Training model for AMZN...\n",
            "Epoch 1/10\n",
            "\u001b[1m71/71\u001b[0m \u001b[32m━━━━━━━━━━━━━━━━━━━━\u001b[0m\u001b[37m\u001b[0m \u001b[1m9s\u001b[0m 68ms/step - loss: 0.0332 - val_loss: 0.0014\n",
            "Epoch 2/10\n",
            "\u001b[1m71/71\u001b[0m \u001b[32m━━━━━━━━━━━━━━━━━━━━\u001b[0m\u001b[37m\u001b[0m \u001b[1m4s\u001b[0m 54ms/step - loss: 0.0020 - val_loss: 0.0015\n",
            "Epoch 3/10\n",
            "\u001b[1m71/71\u001b[0m \u001b[32m━━━━━━━━━━━━━━━━━━━━\u001b[0m\u001b[37m\u001b[0m \u001b[1m6s\u001b[0m 66ms/step - loss: 0.0015 - val_loss: 0.0012\n",
            "Epoch 4/10\n",
            "\u001b[1m71/71\u001b[0m \u001b[32m━━━━━━━━━━━━━━━━━━━━\u001b[0m\u001b[37m\u001b[0m \u001b[1m4s\u001b[0m 53ms/step - loss: 0.0014 - val_loss: 0.0011\n",
            "Epoch 5/10\n",
            "\u001b[1m71/71\u001b[0m \u001b[32m━━━━━━━━━━━━━━━━━━━━\u001b[0m\u001b[37m\u001b[0m \u001b[1m4s\u001b[0m 53ms/step - loss: 0.0015 - val_loss: 0.0011\n",
            "Epoch 6/10\n",
            "\u001b[1m71/71\u001b[0m \u001b[32m━━━━━━━━━━━━━━━━━━━━\u001b[0m\u001b[37m\u001b[0m \u001b[1m6s\u001b[0m 66ms/step - loss: 0.0013 - val_loss: 0.0026\n",
            "Epoch 7/10\n",
            "\u001b[1m71/71\u001b[0m \u001b[32m━━━━━━━━━━━━━━━━━━━━\u001b[0m\u001b[37m\u001b[0m \u001b[1m4s\u001b[0m 53ms/step - loss: 0.0011 - val_loss: 0.0010\n",
            "Epoch 8/10\n",
            "\u001b[1m71/71\u001b[0m \u001b[32m━━━━━━━━━━━━━━━━━━━━\u001b[0m\u001b[37m\u001b[0m \u001b[1m4s\u001b[0m 54ms/step - loss: 0.0010 - val_loss: 0.0011\n",
            "Epoch 9/10\n",
            "\u001b[1m71/71\u001b[0m \u001b[32m━━━━━━━━━━━━━━━━━━━━\u001b[0m\u001b[37m\u001b[0m \u001b[1m5s\u001b[0m 58ms/step - loss: 9.1062e-04 - val_loss: 0.0012\n",
            "Epoch 10/10\n",
            "\u001b[1m71/71\u001b[0m \u001b[32m━━━━━━━━━━━━━━━━━━━━\u001b[0m\u001b[37m\u001b[0m \u001b[1m5s\u001b[0m 54ms/step - loss: 9.3279e-04 - val_loss: 0.0037\n"
          ]
        },
        {
          "output_type": "stream",
          "name": "stderr",
          "text": [
            "WARNING:absl:You are saving your model as an HDF5 file via `model.save()` or `keras.saving.save_model(model)`. This file format is considered legacy. We recommend using instead the native Keras format, e.g. `model.save('my_model.keras')` or `keras.saving.save_model(model, 'my_model.keras')`. \n"
          ]
        },
        {
          "output_type": "display_data",
          "data": {
            "text/plain": [
              "<Figure size 1200x600 with 1 Axes>"
            ],
            "image/png": "[encoded data removed]"
          },
          "metadata": {}
        }
      ]
    },
    {
      "cell_type": "code",
      "source": [
        "\n",
        "\n",
        "# Function to make predictions\n",
        "def make_predictions(company):\n",
        "    # Load test data\n",
        "    X_test = processed_data[company]['X_test']\n",
        "    y_test = processed_data[company]['y_test']\n",
        "    scaler = processed_data[company]['scaler']\n",
        "    model = trained_models[company]\n",
        "\n",
        "    # Make predictions\n",
        "    predictions = model.predict(X_test)\n",
        "\n",
        "    # Inverse transform to get actual price values\n",
        "    y_test_inv = scaler.inverse_transform(y_test.reshape(-1, 1))\n",
        "    predictions_inv = scaler.inverse_transform(predictions)\n",
        "\n",
        "    return y_test_inv, predictions_inv\n",
        "\n",
        "# Get predictions for each company\n",
        "predictions_dict = {}\n",
        "for company in companies:\n",
        "    print(f\"Making predictions for {company}...\")\n",
        "    actual, predicted = make_predictions(company)\n",
        "    predictions_dict[company] = {\n",
        "        'actual': actual,\n",
        "        'predicted': predicted\n",
        "    }\n",
        "\n",
        "# Plot actual vs predicted for Apple as an example\n",
        "plt.figure(figsize=(12, 6))\n",
        "plt.plot(predictions_dict['AAPL']['actual'], label='Actual Price')\n",
        "plt.plot(predictions_dict['AAPL']['predicted'], label='Predicted Price')\n",
        "plt.title('AAPL Stock Price Prediction')\n",
        "plt.xlabel('Trading Days (Last Month)')\n",
        "plt.ylabel('Stock Price')\n",
        "plt.legend()\n",
        "plt.grid(True)\n",
        "plt.show()\n",
        "\n",
        "# Calculate RMSE for each company\n",
        "for company in companies:\n",
        "    actual = predictions_dict[company]['actual']\n",
        "    predicted = predictions_dict[company]['predicted']\n",
        "    rmse = np.sqrt(np.mean(np.square(actual - predicted)))\n",
        "    print(f\"{company} RMSE: {rmse:.4f}\")\n",
        "\n",
        "    # Print some sample predictions\n",
        "    print(f\"{company} - First 5 days comparison:\")\n",
        "    for i in range(min(5, len(actual))):\n",
        "        print(f\"Day {i+1}: Actual = {actual[i][0]:.2f}, Predicted = {predicted[i][0]:.2f}, Diff = {abs(actual[i][0] - predicted[i][0]):.2f}\")"
      ],
      "metadata": {
        "colab": {
          "base_uri": "https://localhost:8080/",
          "height": 1000
        },
        "id": "3-A3ym4XtCRs",
        "outputId": "41956f14-ffb4-4399-d04a-e363901ba621"
      },
      "execution_count": null,
      "outputs": [
        {
          "output_type": "stream",
          "name": "stdout",
          "text": [
            "Making predictions for AAPL...\n",
            "\u001b[1m1/1\u001b[0m \u001b[32m━━━━━━━━━━━━━━━━━━━━\u001b[0m\u001b[37m\u001b[0m \u001b[1m0s\u001b[0m 335ms/step\n",
            "Making predictions for GOOG...\n",
            "\u001b[1m1/1\u001b[0m \u001b[32m━━━━━━━━━━━━━━━━━━━━\u001b[0m\u001b[37m\u001b[0m \u001b[1m0s\u001b[0m 422ms/step\n",
            "Making predictions for MSFT...\n",
            "\u001b[1m1/1\u001b[0m \u001b[32m━━━━━━━━━━━━━━━━━━━━\u001b[0m\u001b[37m\u001b[0m \u001b[1m0s\u001b[0m 481ms/step\n",
            "Making predictions for AMZN...\n",
            "\u001b[1m1/1\u001b[0m \u001b[32m━━━━━━━━━━━━━━━━━━━━\u001b[0m\u001b[37m\u001b[0m \u001b[1m0s\u001b[0m 462ms/step\n"
          ]
        },
        {
          "output_type": "display_data",
          "data": {
            "text/plain": [
              "<Figure size 1200x600 with 1 Axes>"
            ],
            "image/png": "[encoded data removed]"
          },
          "metadata": {}
        },
        {
          "output_type": "stream",
          "name": "stdout",
          "text": [
            "AAPL RMSE: 14.0214\n",
            "AAPL - First 5 days comparison:\n",
            "Day 1: Actual = 214.10, Predicted = 213.35, Diff = 0.75\n",
            "Day 2: Actual = 218.27, Predicted = 211.73, Diff = 6.54\n",
            "Day 3: Actual = 220.73, Predicted = 210.62, Diff = 10.11\n",
            "Day 4: Actual = 223.75, Predicted = 210.04, Diff = 13.71\n",
            "Day 5: Actual = 221.53, Predicted = 210.00, Diff = 11.53\n",
            "GOOG RMSE: 6.3152\n",
            "GOOG - First 5 days comparison:\n",
            "Day 1: Actual = 165.05, Predicted = 164.74, Diff = 0.31\n",
            "Day 2: Actual = 166.25, Predicted = 164.16, Diff = 2.09\n",
            "Day 3: Actual = 169.93, Predicted = 163.71, Diff = 6.22\n",
            "Day 4: Actual = 172.79, Predicted = 163.57, Diff = 9.22\n",
            "Day 5: Actual = 167.14, Predicted = 163.78, Diff = 3.36\n",
            "MSFT RMSE: 12.2184\n",
            "MSFT - First 5 days comparison:\n",
            "Day 1: Actual = 386.84, Predicted = 383.99, Diff = 2.85\n",
            "Day 2: Actual = 391.26, Predicted = 383.69, Diff = 7.57\n",
            "Day 3: Actual = 393.08, Predicted = 383.76, Diff = 9.32\n",
            "Day 4: Actual = 395.16, Predicted = 384.16, Diff = 11.00\n",
            "Day 5: Actual = 389.97, Predicted = 384.88, Diff = 5.09\n",
            "AMZN RMSE: 11.1092\n",
            "AMZN - First 5 days comparison:\n",
            "Day 1: Actual = 194.95, Predicted = 185.09, Diff = 9.86\n",
            "Day 2: Actual = 196.21, Predicted = 184.53, Diff = 11.68\n",
            "Day 3: Actual = 203.26, Predicted = 184.18, Diff = 19.08\n",
            "Day 4: Actual = 205.71, Predicted = 184.39, Diff = 21.32\n",
            "Day 5: Actual = 201.13, Predicted = 185.08, Diff = 16.05\n"
          ]
        }
      ]
    },
    {
      "cell_type": "code",
      "source": [
        "# Step 6: Create a Gradio interface\n",
        "\n",
        "# Get actual dates from the stock data\n",
        "dates = stock_data['AAPL'].index[-21:].strftime('%Y-%m-%d').tolist()\n",
        "\n",
        "# Function to make prediction for a selected date and company\n",
        "def predict_stock_price(selected_date, selected_company):\n",
        "    # Find the index of the selected date in our test data\n",
        "    try:\n",
        "        date_index = dates.index(selected_date)\n",
        "    except ValueError:\n",
        "        return \"Date not found in test data\", \"N/A\", \"N/A\"\n",
        "\n",
        "    # Get the actual and predicted values\n",
        "    actual_value = predictions_dict[selected_company]['actual'][date_index][0]\n",
        "    predicted_value = predictions_dict[selected_company]['predicted'][date_index][0]\n",
        "\n",
        "    # Calculate the difference and percentage difference\n",
        "    diff = predicted_value - actual_value\n",
        "    pct_diff = (diff / actual_value) * 100\n",
        "\n",
        "    result_text = f\"For {selected_company} on {selected_date}:\"\n",
        "    actual_text = f\"Actual Price: ${actual_value:.2f}\"\n",
        "    predicted_text = f\"Predicted Price: ${predicted_value:.2f} (Diff: ${diff:.2f}, {pct_diff:.2f}%)\"\n",
        "\n",
        "    return result_text, actual_text, predicted_text\n",
        "\n",
        "# Create the Gradio interface\n",
        "with gr.Blocks(title=\"Stock Price Prediction with LSTM\") as demo:\n",
        "    gr.Markdown(\"# Stock Price Prediction with LSTM\")\n",
        "    gr.Markdown(\"Select a company and date to see the actual vs predicted stock price\")\n",
        "\n",
        "    with gr.Row():\n",
        "        company_dropdown = gr.Dropdown(\n",
        "            choices=companies,\n",
        "            label=\"Select Company\",\n",
        "            # No default value\n",
        "        )\n",
        "        date_dropdown = gr.Dropdown(\n",
        "            choices=dates,\n",
        "            label=\"Select Date\",\n",
        "            # No default value\n",
        "        )\n",
        "\n",
        "    predict_button = gr.Button(\"Predict\")\n",
        "\n",
        "    result_text = gr.Textbox(label=\"Result\")\n",
        "    actual_price = gr.Textbox(label=\"Actual Price\")\n",
        "    predicted_price = gr.Textbox(label=\"Predicted Price\")\n",
        "\n",
        "    # Modify the update_plot function to return a blank plot if no company selected\n",
        "    def update_plot(selected_company, trigger):\n",
        "        if not selected_company or not trigger:\n",
        "            # Return a blank figure if no company selected or button not clicked\n",
        "            fig = plt.figure(figsize=(10, 6))\n",
        "            plt.title(\"Please select a company and click Predict\")\n",
        "            plt.xlabel(\"Date\")\n",
        "            plt.ylabel(\"Stock Price ($)\")\n",
        "            plt.grid(True)\n",
        "            plt.tight_layout()\n",
        "            return fig\n",
        "\n",
        "        fig = plt.figure(figsize=(10, 6))\n",
        "        actual = predictions_dict[selected_company]['actual']\n",
        "        predicted = predictions_dict[selected_company]['predicted']\n",
        "\n",
        "        plt.plot(dates, actual, label='Actual Price', marker='o')\n",
        "        plt.plot(dates, predicted, label='Predicted Price', marker='x')\n",
        "        plt.title(f'{selected_company} Stock Price - Actual vs Predicted (Last Month)')\n",
        "        plt.xlabel('Date')\n",
        "        plt.ylabel('Stock Price ($)')\n",
        "        plt.xticks(rotation=45)\n",
        "        plt.legend()\n",
        "        plt.grid(True)\n",
        "        plt.tight_layout()\n",
        "\n",
        "        return fig\n",
        "\n",
        "    plot = gr.Plot(label=\"Price Comparison Plot\")\n",
        "\n",
        "    # Set up event handlers\n",
        "    predict_button.click(\n",
        "        fn=lambda date, company: [\n",
        "            *predict_stock_price(date, company),  # This returns the 3 text outputs\n",
        "            True  # This is a trigger value for the plot\n",
        "        ],\n",
        "        inputs=[date_dropdown, company_dropdown],\n",
        "        outputs=[result_text, actual_price, predicted_price, gr.State(True)]\n",
        "    ).then(\n",
        "        fn=update_plot,\n",
        "        inputs=[company_dropdown, gr.State(True)],\n",
        "        outputs=[plot]\n",
        "    )\n",
        "\n",
        "    # Remove the company_dropdown.change event that was automatically updating the plot"
      ],
      "metadata": {
        "id": "a7ON89-iuAL-"
      },
      "execution_count": null,
      "outputs": []
    },
    {
      "cell_type": "code",
      "source": [
        "# Launch the interface\n",
        "demo.launch(share=True)"
      ],
      "metadata": {
        "colab": {
          "base_uri": "https://localhost:8080/",
          "height": 611
        },
        "id": "29se-IwJuOds",
        "outputId": "8c67e68a-66f1-4682-e732-b5ae8e664cff"
      },
      "execution_count": null,
      "outputs": [
        {
          "output_type": "stream",
          "name": "stdout",
          "text": [
            "Colab notebook detected. To show errors in colab notebook, set debug=True in launch()\n",
            "* Running on public URL: https://6b96ffc54d125f13c4.gradio.live\n",
            "\n",
            "This share link expires in 1 week. For free permanent hosting and GPU upgrades, run `gradio deploy` from the terminal in the working directory to deploy to Hugging Face Spaces (https://huggingface.co/spaces)\n"
          ]
        },
        {
          "output_type": "display_data",
          "data": {
            "text/plain": [
              "<IPython.core.display.HTML object>"
            ],
            "text/html": [
              "<div><iframe src=\"https://6b96ffc54d125f13c4.gradio.live\" width=\"100%\" height=\"500\" allow=\"autoplay; camera; microphone; clipboard-read; clipboard-write;\" frameborder=\"0\" allowfullscreen></iframe></div>"
            ]
          },
          "metadata": {}
        },
        {
          "output_type": "execute_result",
          "data": {
            "text/plain": []
          },
          "metadata": {},
          "execution_count": 9
        }
      ]
    },
    {
      "cell_type": "code",
      "source": [
        "# predict future stock prices for user-specified future dates"
      ],
      "metadata": {
        "id": "1ggKabOj_Fdf"
      },
      "execution_count": null,
      "outputs": []
    },
    {
      "cell_type": "code",
      "source": [
        "def predict_future_price(company, future_days):\n",
        "    model = trained_models[company]\n",
        "    scaler = processed_data[company]['scaler']\n",
        "    data = stock_data[company]['Close'].values.reshape(-1, 1)\n",
        "    last_sequence = scaler.transform(data[-60:])\n",
        "\n",
        "    predicted_prices = []\n",
        "\n",
        "    current_seq = last_sequence.copy()\n",
        "    for _ in range(future_days):\n",
        "        input_seq = current_seq[-60:].reshape(1, 60, 1)\n",
        "        next_price_scaled = model.predict(input_seq, verbose=0)[0][0]\n",
        "        predicted_prices.append(next_price_scaled)\n",
        "\n",
        "        next_price_scaled = np.array([[next_price_scaled]])\n",
        "        current_seq = np.append(current_seq, next_price_scaled, axis=0)\n",
        "\n",
        "    # Inverse transform the predicted prices\n",
        "    predicted_prices = scaler.inverse_transform(np.array(predicted_prices).reshape(-1, 1)).flatten()\n",
        "\n",
        "    future_dates = pd.bdate_range(start=datetime.datetime.now(), periods=future_days + 1)[1:]\n",
        "    return future_dates.strftime('%Y-%m-%d').tolist(), predicted_prices.tolist()\n"
      ],
      "metadata": {
        "id": "6CAXNd_n_FGx"
      },
      "execution_count": null,
      "outputs": []
    },
    {
      "cell_type": "code",
      "source": [
        "with gr.Blocks() as future_app:\n",
        "    gr.Markdown(\"## 📈 Predict Future Stock Price\")\n",
        "\n",
        "    with gr.Row():\n",
        "        future_company_dropdown = gr.Dropdown(choices=companies, label=\"Select Company\")\n",
        "        future_days_input = gr.Number(label=\"Days into the Future\", value=1, precision=0)\n",
        "\n",
        "    future_predict_button = gr.Button(\"Predict Future Price\")\n",
        "    future_result_box = gr.Textbox(label=\"Predicted Future Prices\")\n",
        "\n",
        "    def predict_and_display_future(company, days):\n",
        "        future_dates, prices = predict_future_price(company, int(days))\n",
        "        result = \"\\n\".join([f\"{d}: ${p:.2f}\" for d, p in zip(future_dates, prices)])\n",
        "        return result\n",
        "\n",
        "    future_predict_button.click(\n",
        "        fn=predict_and_display_future,\n",
        "        inputs=[future_company_dropdown, future_days_input],\n",
        "        outputs=[future_result_box]\n",
        "    )"
      ],
      "metadata": {
        "id": "UiJBIR3W_Nal"
      },
      "execution_count": null,
      "outputs": []
    },
    {
      "cell_type": "code",
      "source": [
        "# 👇 Launch this interface\n",
        "future_app.launch()"
      ],
      "metadata": {
        "colab": {
          "base_uri": "https://localhost:8080/",
          "height": 646
        },
        "id": "YYOdRwZRCtp9",
        "outputId": "01680a55-bfa4-41cc-c672-19dffcc29605"
      },
      "execution_count": null,
      "outputs": [
        {
          "output_type": "stream",
          "name": "stdout",
          "text": [
            "It looks like you are running Gradio on a hosted a Jupyter notebook. For the Gradio app to work, sharing must be enabled. Automatically setting `share=True` (you can turn this off by setting `share=False` in `launch()` explicitly).\n",
            "\n",
            "Colab notebook detected. To show errors in colab notebook, set debug=True in launch()\n",
            "* Running on public URL: https://bc44e8d4cab9d4bd3c.gradio.live\n",
            "\n",
            "This share link expires in 1 week. For free permanent hosting and GPU upgrades, run `gradio deploy` from the terminal in the working directory to deploy to Hugging Face Spaces (https://huggingface.co/spaces)\n"
          ]
        },
        {
          "output_type": "display_data",
          "data": {
            "text/plain": [
              "<IPython.core.display.HTML object>"
            ],
            "text/html": [
              "<div><iframe src=\"https://bc44e8d4cab9d4bd3c.gradio.live\" width=\"100%\" height=\"500\" allow=\"autoplay; camera; microphone; clipboard-read; clipboard-write;\" frameborder=\"0\" allowfullscreen></iframe></div>"
            ]
          },
          "metadata": {}
        },
        {
          "output_type": "execute_result",
          "data": {
            "text/plain": []
          },
          "metadata": {},
          "execution_count": 13
        }
      ]
    },
    {
      "cell_type": "code",
      "source": [],
      "metadata": {
        "id": "OOADNab-w-qN"
      },
      "execution_count": null,
      "outputs": []
    }
  ]
}